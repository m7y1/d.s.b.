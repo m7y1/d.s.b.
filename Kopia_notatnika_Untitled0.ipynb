{
  "nbformat": 4,
  "nbformat_minor": 0,
  "metadata": {
    "colab": {
      "provenance": [],
      "authorship_tag": "ABX9TyMpLxxI8mebfSw9tqwtRvx2",
      "include_colab_link": true
    },
    "kernelspec": {
      "name": "python3",
      "display_name": "Python 3"
    },
    "language_info": {
      "name": "python"
    }
  },
  "cells": [
    {
      "cell_type": "markdown",
      "metadata": {
        "id": "view-in-github",
        "colab_type": "text"
      },
      "source": [
        "<a href=\"https://colab.research.google.com/github/m7y1/d.s.b./blob/main/Kopia_notatnika_Untitled0.ipynb\" target=\"_parent\"><img src=\"https://colab.research.google.com/assets/colab-badge.svg\" alt=\"Open In Colab\"/></a>"
      ]
    },
    {
      "cell_type": "markdown",
      "source": [
        "x=5\n",
        "print(x)"
      ],
      "metadata": {
        "id": "-gfMtnudicAA"
      }
    },
    {
      "cell_type": "markdown",
      "source": [
        "import numpy as np\n",
        "x=np.array([1,2,3])\n",
        "print(x)\n"
      ],
      "metadata": {
        "id": "7mLdNcBaio9A"
      }
    },
    {
      "cell_type": "markdown",
      "source": [
        "from google.colab import drive\n",
        "drive.mount('/content/drive')"
      ],
      "metadata": {
        "id": "MuVVVMkONb_7"
      }
    },
    {
      "cell_type": "markdown",
      "source": [
        "import pandas as pd\n",
        "from sklearn.linear_model import LinearRegression\n",
        "from sklearn.metrics import mean_squared_error"
      ],
      "metadata": {
        "id": "OJo-euGwk_95"
      }
    },
    {
      "cell_type": "markdown",
      "source": [
        "data=pd.DataFrame({\"X1\":[2,3,5], \"y\":[1,3,8]})\n",
        "print(data)"
      ],
      "metadata": {
        "id": "4odL3N2Wlt0k"
      }
    }
  ]
}